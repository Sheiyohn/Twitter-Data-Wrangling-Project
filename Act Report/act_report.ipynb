{
 "cells": [
  {
   "cell_type": "markdown",
   "metadata": {},
   "source": [
    "# INSIGHTS & VISUALISATION"
   ]
  },
  {
   "cell_type": "markdown",
   "metadata": {},
   "source": [
    "Some of the key insights derived from the cleaned twittwe archive are as follows:\n",
    "\n",
    "* Most retweeted and favourited is the tweet with Tweet ID 744234799360020481, with frequency of 149790 and 73855 respectively. The dog type for this dog was identified as \"doggo\".Eventhough comparing the count of favouruites and retweets is based on how long they were on twitter feed, it is still safe to say that this tweet is popular among the Dog_Rating user base as other tweets with older timestamps did not have this count for both favourites and retweets.\n",
    "\n",
    "* The tweet with the least number of favourites at 49 is the tweet with ID 707983188426153984. And the tweet with the least number of retweets at 1 is the tweet with ID 838085839343206401. When it is compared to the lowest favourite count, the tweet id 838085839343206401 did fairly better as the tweet id 707983188426153984 has a very low favourite and retweet count when put in comparison.\n",
    "\n",
    "* Eventhough many of the tweets did not specify the dog type, we can still identify that pupper catergory was a majority while floofers were a minority in the Dog Ratings universe.\n",
    "\n",
    "* It is identified that almost more than 90% of the dog ratings done by the moderators of Dog_ratings account is by their twitter iOS phone app.\n",
    "\n"
   ]
  },
  {
   "cell_type": "markdown",
   "metadata": {},
   "source": [
    "### Visualizations"
   ]
  },
  {
   "cell_type": "markdown",
   "metadata": {},
   "source": [
    "Two key visualizations was carrited out to identify the most common dog rating score and most common dog names.\n",
    "\n",
    "#### Most Common Score\n",
    "\n",
    "<img src=\"Most Common Score.png\">\n",
    "\n",
    "As its evident from the visualization, the most common scores provided to dogs is 12, while the score 10 and 11 follow it up respectively. We also notice that the scores below the median 8 has a count less than 100 compared to the scores above median. This may indicate the twitter owner's reluctance to rate dogs with a lower score in general. Also we can notice, that all scores are integers, and only are very few have recieved a high score of 14.\n",
    "\n",
    "In this visualization we have only selected the scores that have been provided more than 10 times and have omitted the rest as they are to be considered as outliers, due to the randomness of their scores.\n",
    "\n",
    "\n",
    "#### Most Common Dog Name\n",
    "\n",
    "<img src=\"Most Common Names.png\">\n",
    "\n",
    "In this visualization, we have considered the most common dog names in the Dog_Rating universe. We have considered top 10 most common names, in which Lucy and Charlie came as the most common. If the more information was provided on the gender of the dogs, we can further analyze the most commons names based on gender."
   ]
  },
  {
   "cell_type": "code",
   "execution_count": null,
   "metadata": {},
   "outputs": [],
   "source": []
  }
 ],
 "metadata": {
  "kernelspec": {
   "display_name": "Python 3",
   "language": "python",
   "name": "python3"
  },
  "language_info": {
   "codemirror_mode": {
    "name": "ipython",
    "version": 3
   },
   "file_extension": ".py",
   "mimetype": "text/x-python",
   "name": "python",
   "nbconvert_exporter": "python",
   "pygments_lexer": "ipython3",
   "version": "3.6.3"
  }
 },
 "nbformat": 4,
 "nbformat_minor": 2
}
